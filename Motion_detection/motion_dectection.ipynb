{
 "cells": [
  {
   "cell_type": "code",
   "execution_count": 1,
   "metadata": {},
   "outputs": [],
   "source": [
    "import cv2, time, pandas\n",
    "from datetime import datetime"
   ]
  },
  {
   "cell_type": "code",
   "execution_count": 6,
   "metadata": {},
   "outputs": [
    {
     "name": "stdout",
     "output_type": "stream",
     "text": [
      "[0, 0]\n",
      "[datetime.datetime(2020, 10, 28, 14, 10, 35, 778479), datetime.datetime(2020, 10, 28, 14, 10, 39, 866395), datetime.datetime(2020, 10, 28, 14, 10, 41, 898935), datetime.datetime(2020, 10, 28, 14, 10, 44, 60673), datetime.datetime(2020, 10, 28, 14, 10, 45, 834849), datetime.datetime(2020, 10, 28, 14, 10, 46, 605600), datetime.datetime(2020, 10, 28, 14, 10, 49, 131745), datetime.datetime(2020, 10, 28, 14, 10, 49, 931750), datetime.datetime(2020, 10, 28, 14, 10, 51, 802658), datetime.datetime(2020, 10, 28, 14, 10, 53, 258814), datetime.datetime(2020, 10, 28, 14, 10, 58, 235670), datetime.datetime(2020, 10, 28, 14, 10, 59, 530315), datetime.datetime(2020, 10, 28, 14, 11, 2, 427877), datetime.datetime(2020, 10, 28, 14, 11, 4, 889284), datetime.datetime(2020, 10, 28, 14, 11, 5, 771177), datetime.datetime(2020, 10, 28, 14, 11, 6, 26439), datetime.datetime(2020, 10, 28, 14, 11, 6, 136921), datetime.datetime(2020, 10, 28, 14, 11, 6, 394905), datetime.datetime(2020, 10, 28, 14, 11, 7, 3132), datetime.datetime(2020, 10, 28, 14, 11, 9, 131462), datetime.datetime(2020, 10, 28, 14, 11, 21, 97976), datetime.datetime(2020, 10, 28, 14, 11, 25, 401446), datetime.datetime(2020, 10, 28, 14, 11, 25, 739768), datetime.datetime(2020, 10, 28, 14, 11, 26, 174085), datetime.datetime(2020, 10, 28, 14, 11, 27, 66948), datetime.datetime(2020, 10, 28, 14, 11, 29, 98811), datetime.datetime(2020, 10, 28, 14, 11, 29, 833396), datetime.datetime(2020, 10, 28, 14, 11, 33, 342445), datetime.datetime(2020, 10, 28, 14, 11, 55, 1206), datetime.datetime(2020, 10, 28, 14, 11, 56, 490102)]\n",
      "30 30\n",
      "0 1\n",
      "2 3\n",
      "4 5\n",
      "6 7\n",
      "8 9\n",
      "10 11\n",
      "12 13\n",
      "14 15\n",
      "16 17\n",
      "18 19\n",
      "20 21\n",
      "22 23\n",
      "24 25\n",
      "26 27\n",
      "28 29\n"
     ]
    }
   ],
   "source": [
    "first_frame = None\n",
    "cntPoint = 0\n",
    "status_list = [None, None]\n",
    "times = []\n",
    "df = pandas.DataFrame(columns = [\"Start\", \"End\"])\n",
    "\n",
    "raw_video_src = cv2.VideoCapture(0)\n",
    "\n",
    "while True:\n",
    "    check, frame = raw_video_src.read()\n",
    "    status = 0\n",
    "    gray_snapshot = cv2.cvtColor(frame, cv2.COLOR_BGR2GRAY)\n",
    "    gray_snapshot = cv2.GaussianBlur(gray_snapshot, (21, 21), 0)\n",
    "    if first_frame is None:\n",
    "        first_frame = gray_snapshot\n",
    "        continue\n",
    "    delta_diff_frame = cv2.absdiff(first_frame, gray_snapshot)\n",
    "    threshold_delta = cv2.threshold(delta_diff_frame, 30, 255, cv2.THRESH_BINARY)[1]\n",
    "    threshold_delta = cv2.dilate(threshold_delta, None, iterations = 0)\n",
    "    cnts, hierarchy = cv2.findContours(threshold_delta.copy(),\n",
    "                                   cv2.RETR_EXTERNAL,\n",
    "                                   cv2.CHAIN_APPROX_SIMPLE\n",
    "                                  )\n",
    "    \n",
    "    for contour in cnts:\n",
    "        if cv2.contourArea(contour) < 1000:\n",
    "            continue\n",
    "        status = 1\n",
    "        (x, y, w, h) = cv2.boundingRect(contour)\n",
    "        cv2.rectangle(frame, (x, y), (x+w, y+h), (106, 255, 0), 3)\n",
    "    \n",
    "    status_list.append(status)\n",
    "    status_list = status_list[-2:]\n",
    "    \n",
    "    if status_list[-1] == 1 and status_list[-2] == 0:\n",
    "        cntPoint+=1\n",
    "        times.append(datetime.now())\n",
    "    if status_list[-1] == 0 and status_list[-2] == 1:\n",
    "        cntPoint+=1\n",
    "        times.append(datetime.now())\n",
    "        \n",
    "    cv2.imshow(\"frame\",frame)\n",
    "    cv2.imshow(\"gray_snapshot\",gray_snapshot)\n",
    "    cv2.imshow(\"delta_diff_frame\",delta_diff_frame)\n",
    "    cv2.imshow(\"threshold_delta\",threshold_delta)\n",
    "    \n",
    "    key = cv2.waitKey(1)\n",
    "    \n",
    "    if key == ord('q'):\n",
    "        break\n",
    "\n",
    "print(status_list)\n",
    "print(times)\n",
    "print(cntPoint, len(times))\n",
    "for i in range(0, len(times), 2):\n",
    "    df = df.append({\"Start\":times[i], \"End\":times[i+1]}, ignore_index = True)\n",
    "    print(i, i+1)\n",
    "\n",
    "    \n",
    "df.to_csv(\"timeStamps.csv\")\n",
    "\n",
    "raw_video_src.release()\n",
    "cv2.destroyAllWindows()\n",
    "    "
   ]
  },
  {
   "cell_type": "code",
   "execution_count": null,
   "metadata": {},
   "outputs": [],
   "source": []
  },
  {
   "cell_type": "code",
   "execution_count": null,
   "metadata": {},
   "outputs": [],
   "source": []
  }
 ],
 "metadata": {
  "kernelspec": {
   "display_name": "Python 3",
   "language": "python",
   "name": "python3"
  },
  "language_info": {
   "codemirror_mode": {
    "name": "ipython",
    "version": 3
   },
   "file_extension": ".py",
   "mimetype": "text/x-python",
   "name": "python",
   "nbconvert_exporter": "python",
   "pygments_lexer": "ipython3",
   "version": "3.8.3"
  }
 },
 "nbformat": 4,
 "nbformat_minor": 4
}
