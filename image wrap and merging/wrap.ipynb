{
 "cells": [
  {
   "cell_type": "code",
   "execution_count": 2,
   "metadata": {},
   "outputs": [],
   "source": [
    "import cv2,numpy\n"
   ]
  },
  {
   "cell_type": "code",
   "execution_count": 19,
   "metadata": {},
   "outputs": [],
   "source": [
    "raw_img = cv2.imread(\"C:\\\\Users\\\\Dell\\\\Desktop\\\\opencv\\\\cards.jpg\")\n",
    "#img_size = raw_img.shape\n",
    "#raw_img = cv2.resize(raw_img, (int(img_size[1]/2), int(img_size[0]/2)))"
   ]
  },
  {
   "cell_type": "code",
   "execution_count": 23,
   "metadata": {},
   "outputs": [],
   "source": [
    "width, height = 250, 350\n",
    "pts1 = numpy.float32([[872, 173], [1158, 283], [701, 618], [992, 726]])\n",
    "pts2 = numpy.float32([[0, 0], [width, 0], [0, height], [width, height]])\n",
    "\n",
    "mat = cv2.getPerspectiveTransform(pts1, pts2)\n",
    "warped_img = cv2.warpPerspective(raw_img, mat, (width, height))\n",
    "cv2.imshow(\"warped image\", warped_img)\n",
    "cv2.waitKey(0)\n",
    "cv2.destroyAllWindows()"
   ]
  },
  {
   "cell_type": "code",
   "execution_count": 15,
   "metadata": {},
   "outputs": [],
   "source": [
    "cv2.imshow(\"raw img\", raw_img)\n",
    "cv2.waitKey(0)\n",
    "cv2.destroyAllWindows()"
   ]
  },
  {
   "cell_type": "code",
   "execution_count": null,
   "metadata": {},
   "outputs": [],
   "source": []
  }
 ],
 "metadata": {
  "kernelspec": {
   "display_name": "Python 3",
   "language": "python",
   "name": "python3"
  },
  "language_info": {
   "codemirror_mode": {
    "name": "ipython",
    "version": 3
   },
   "file_extension": ".py",
   "mimetype": "text/x-python",
   "name": "python",
   "nbconvert_exporter": "python",
   "pygments_lexer": "ipython3",
   "version": "3.8.3"
  }
 },
 "nbformat": 4,
 "nbformat_minor": 4
}
