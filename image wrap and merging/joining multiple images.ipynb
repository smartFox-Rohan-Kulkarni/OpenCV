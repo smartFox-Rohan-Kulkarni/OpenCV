{
 "cells": [
  {
   "cell_type": "code",
   "execution_count": 1,
   "metadata": {},
   "outputs": [],
   "source": [
    "import cv2, numpy"
   ]
  },
  {
   "cell_type": "code",
   "execution_count": 6,
   "metadata": {},
   "outputs": [],
   "source": [
    "raw_img = cv2.imread(\"C:\\\\Users\\\\Dell\\\\Desktop\\\\opencv\\\\group-photo-600x386.png\")\n",
    "\n",
    "hori_image = numpy.hstack((raw_img, raw_img))\n",
    "verti_image = numpy.vstack((raw_img, raw_img))\n",
    "\n",
    "box_image =  numpy.vstack((hori_image, hori_image))\n",
    "\n",
    "cv2.imshow(\"horizontal stack\", hori_image)\n",
    "cv2.imshow(\"vertical stack\", verti_image)\n",
    "cv2.imshow(\"2 X 2\", box_image)\n",
    "\n",
    "cv2.waitKey(0)\n",
    "cv2.destroyAllWindows()"
   ]
  },
  {
   "cell_type": "code",
   "execution_count": null,
   "metadata": {},
   "outputs": [],
   "source": []
  }
 ],
 "metadata": {
  "kernelspec": {
   "display_name": "Python 3",
   "language": "python",
   "name": "python3"
  },
  "language_info": {
   "codemirror_mode": {
    "name": "ipython",
    "version": 3
   },
   "file_extension": ".py",
   "mimetype": "text/x-python",
   "name": "python",
   "nbconvert_exporter": "python",
   "pygments_lexer": "ipython3",
   "version": "3.8.3"
  }
 },
 "nbformat": 4,
 "nbformat_minor": 4
}
