{
 "cells": [
  {
   "cell_type": "code",
   "execution_count": 1,
   "metadata": {},
   "outputs": [],
   "source": [
    "import cv2\n",
    "import numpy as np"
   ]
  },
  {
   "cell_type": "code",
   "execution_count": 2,
   "metadata": {},
   "outputs": [],
   "source": [
    "def empty(a):\n",
    "    pass\n",
    "raw_img = cv2.imread(\"C:\\\\Users\\\\Dell\\\\Desktop\\\\opencv\\\\group-photo-600x386.png\")"
   ]
  },
  {
   "cell_type": "code",
   "execution_count": 5,
   "metadata": {},
   "outputs": [],
   "source": [
    "cv2.namedWindow(\"track bars\")\n",
    "cv2.resizeWindow(\"track bars\", 640, 240)\n",
    "\n",
    "cv2.createTrackbar(\"hue min\", \"track bars\", 0, 179, empty)\n",
    "cv2.createTrackbar(\"hue max\", \"track bars\", 179, 179, empty)\n",
    "cv2.createTrackbar(\"sat min\", \"track bars\", 0, 255, empty)\n",
    "cv2.createTrackbar(\"sat max\", \"track bars\", 255, 255, empty)\n",
    "cv2.createTrackbar(\"val min\", \"track bars\", 0, 255, empty)\n",
    "cv2.createTrackbar(\"val max\", \"track bars\", 255, 255, empty)\n",
    "\n",
    "\n",
    "img_hsv = cv2.cvtColor(raw_img, cv2.COLOR_BGR2HSV)\n",
    "\n",
    "cnt = 0 \n",
    "while True:\n",
    "    h_min = cv2.getTrackbarPos(\"hue min\", \"track bars\")\n",
    "    h_max = cv2.getTrackbarPos(\"hue max\", \"track bars\")\n",
    "    s_min = cv2.getTrackbarPos(\"sat min\", \"track bars\")\n",
    "    s_max = cv2.getTrackbarPos(\"sat max\", \"track bars\")\n",
    "    v_min = cv2.getTrackbarPos(\"val min\", \"track bars\")\n",
    "    v_max = cv2.getTrackbarPos(\"val max\", \"track bars\")\n",
    "\n",
    "    lowerBound = np.array([h_min, s_min, v_min])\n",
    "    upperBound = np.array([h_max, s_max, v_max])\n",
    "    mask = cv2.inRange(img_hsv,lowerBound, upperBound)\n",
    "\n",
    "    res_img = cv2.bitwise_and(raw_img, raw_img, mask= mask)\n",
    "    \n",
    "    cv2.imshow(\"original image\",  raw_img)\n",
    "    cv2.imshow(\"hsv image\",  img_hsv)\n",
    "    cv2.imshow(\"result image\",  res_img)\n",
    "    cv2.waitKey(1)\n",
    "    cnt+=1\n",
    "    if cnt == 4000:\n",
    "        break\n",
    "cv2.destroyAllWindows()"
   ]
  },
  {
   "cell_type": "code",
   "execution_count": null,
   "metadata": {},
   "outputs": [],
   "source": []
  }
 ],
 "metadata": {
  "kernelspec": {
   "display_name": "Python 3",
   "language": "python",
   "name": "python3"
  },
  "language_info": {
   "codemirror_mode": {
    "name": "ipython",
    "version": 3
   },
   "file_extension": ".py",
   "mimetype": "text/x-python",
   "name": "python",
   "nbconvert_exporter": "python",
   "pygments_lexer": "ipython3",
   "version": "3.8.3"
  }
 },
 "nbformat": 4,
 "nbformat_minor": 4
}
