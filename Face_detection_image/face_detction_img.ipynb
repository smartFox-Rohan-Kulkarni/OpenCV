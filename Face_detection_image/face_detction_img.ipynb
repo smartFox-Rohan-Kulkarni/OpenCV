{
 "cells": [
  {
   "cell_type": "code",
   "execution_count": 1,
   "metadata": {},
   "outputs": [],
   "source": [
    "import cv2"
   ]
  },
  {
   "cell_type": "code",
   "execution_count": 2,
   "metadata": {},
   "outputs": [],
   "source": [
    "face_cascade = cv2.CascadeClassifier(\"C:\\\\Users\\\\Dell\\\\Desktop\\\\opencv\\\\haarcascade_frontalface_default.xml\")"
   ]
  },
  {
   "cell_type": "code",
   "execution_count": 75,
   "metadata": {},
   "outputs": [],
   "source": [
    "#raw_img = cv2.imread(\"C:\\\\Users\\\\Dell\\\\Desktop\\\\opencv\\\\img1.jpeg\")\n",
    "\n",
    "raw_img = cv2.imread(\"C:\\\\Users\\\\Dell\\\\Desktop\\\\opencv\\\\group-photo-600x386.png\")"
   ]
  },
  {
   "cell_type": "code",
   "execution_count": 76,
   "metadata": {},
   "outputs": [],
   "source": [
    "grey_scale_msg = cv2.cvtColor(raw_img, cv2.COLOR_BGR2GRAY)"
   ]
  },
  {
   "cell_type": "code",
   "execution_count": 77,
   "metadata": {},
   "outputs": [],
   "source": [
    "faces = face_cascade.detectMultiScale(grey_scale_msg, 1.05, 5)"
   ]
  },
  {
   "cell_type": "code",
   "execution_count": 78,
   "metadata": {},
   "outputs": [
    {
     "data": {
      "text/plain": [
       "array([[471, 206,  33,  33],\n",
       "       [133, 120,  44,  44],\n",
       "       [233,  33,  37,  37],\n",
       "       [368,  37,  36,  36],\n",
       "       [324, 129,  50,  50],\n",
       "       [399, 128,  52,  52],\n",
       "       [345,  48,  32,  32],\n",
       "       [330, 161,  46,  46]], dtype=int32)"
      ]
     },
     "execution_count": 78,
     "metadata": {},
     "output_type": "execute_result"
    }
   ],
   "source": [
    "faces"
   ]
  },
  {
   "cell_type": "code",
   "execution_count": 81,
   "metadata": {},
   "outputs": [],
   "source": [
    "for x, y, w, h in faces:\n",
    "    img = cv2.rectangle(raw_img, (x, y), (x + w, y+ h),(255, 225, 0), 3)"
   ]
  },
  {
   "cell_type": "code",
   "execution_count": 83,
   "metadata": {},
   "outputs": [],
   "source": [
    "cv2.imshow(\"faces\", img)\n",
    "cv2.waitKey(0)\n",
    "cv2.destroyAllWindows()"
   ]
  },
  {
   "cell_type": "code",
   "execution_count": null,
   "metadata": {},
   "outputs": [],
   "source": []
  }
 ],
 "metadata": {
  "kernelspec": {
   "display_name": "Python 3",
   "language": "python",
   "name": "python3"
  },
  "language_info": {
   "codemirror_mode": {
    "name": "ipython",
    "version": 3
   },
   "file_extension": ".py",
   "mimetype": "text/x-python",
   "name": "python",
   "nbconvert_exporter": "python",
   "pygments_lexer": "ipython3",
   "version": "3.8.3"
  }
 },
 "nbformat": 4,
 "nbformat_minor": 4
}
